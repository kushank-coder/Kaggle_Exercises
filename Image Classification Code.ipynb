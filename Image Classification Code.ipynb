{
 "cells": [
  {
   "cell_type": "code",
   "execution_count": 2,
   "id": "c5a9bf4a",
   "metadata": {},
   "outputs": [],
   "source": [
    "import os\n",
    "import tensorflow as tf\n",
    "import pandas as pd\n",
    "import numpy as np\n",
    "import shutil\n",
    "import pandas as pd\n",
    "import matplotlib.pyplot as plt\n",
    "\n",
    "from tensorflow.keras.preprocessing.image import ImageDataGenerator\n",
    "\n",
    "from shutil import copyfile"
   ]
  },
  {
   "cell_type": "code",
   "execution_count": 3,
   "id": "35093652",
   "metadata": {},
   "outputs": [
    {
     "name": "stdout",
     "output_type": "stream",
     "text": [
      "C:\\Users\\hp\\anaconda3\\envs\\kush\\lib\\site-packages\\tensorflow\\__init__.py\n"
     ]
    }
   ],
   "source": [
    "print(tf.__file__)"
   ]
  },
  {
   "cell_type": "code",
   "execution_count": 4,
   "id": "69339282",
   "metadata": {},
   "outputs": [],
   "source": [
    "root_path = 'C:/Users/hp/DATA SCIENCE/Practise Projects/CIFAR Dataset Kaggle/cifar-10'"
   ]
  },
  {
   "cell_type": "code",
   "execution_count": 5,
   "id": "741a6c11",
   "metadata": {},
   "outputs": [
    {
     "name": "stdout",
     "output_type": "stream",
     "text": [
      "C:/Users/hp/DATA SCIENCE/Practise Projects/CIFAR Dataset Kaggle/cifar-10\\train\n"
     ]
    }
   ],
   "source": [
    "print(os.path.join(root_path,'train'))"
   ]
  },
  {
   "cell_type": "code",
   "execution_count": 6,
   "id": "b95757c7",
   "metadata": {},
   "outputs": [],
   "source": [
    "Image_list = os.listdir(os.path.join(root_path,'train'))\n",
    "Base_Images = os.path.join(root_path,'train')"
   ]
  },
  {
   "cell_type": "code",
   "execution_count": 7,
   "id": "1004ef86",
   "metadata": {},
   "outputs": [
    {
     "data": {
      "text/plain": [
       "50000"
      ]
     },
     "execution_count": 7,
     "metadata": {},
     "output_type": "execute_result"
    }
   ],
   "source": [
    "len(Image_list)\n",
    "# 50000"
   ]
  },
  {
   "cell_type": "code",
   "execution_count": 9,
   "id": "5c7789af",
   "metadata": {},
   "outputs": [],
   "source": [
    "os.makedirs(os.path.join(root_path,'Class_wise_Images'))"
   ]
  },
  {
   "cell_type": "code",
   "execution_count": 8,
   "id": "2a2950d9",
   "metadata": {},
   "outputs": [],
   "source": [
    "Training_dir = os.path.join(root_path,'Class_wise_Images/training')\n",
    "Validation_dir = os.path.join(root_path,'Class_wise_Images/validation')"
   ]
  },
  {
   "cell_type": "code",
   "execution_count": 11,
   "id": "36c62b1f",
   "metadata": {},
   "outputs": [],
   "source": [
    "#makedirs always takes just 1 input\n",
    "os.makedirs(os.path.join(root_path,'Class_wise_Images/training'))\n",
    "os.makedirs(os.path.join(root_path,'Class_wise_Images/validation'))"
   ]
  },
  {
   "cell_type": "code",
   "execution_count": 9,
   "id": "6b200f0e",
   "metadata": {},
   "outputs": [],
   "source": [
    "#reading the training labels\n",
    "training_labels = pd.read_csv(\"C:/Users/hp/DATA SCIENCE/Practise Projects/CIFAR Dataset Kaggle/cifar-10/trainLabels.csv\")"
   ]
  },
  {
   "cell_type": "code",
   "execution_count": 10,
   "id": "2d367b0f",
   "metadata": {},
   "outputs": [
    {
     "data": {
      "text/html": [
       "<div>\n",
       "<style scoped>\n",
       "    .dataframe tbody tr th:only-of-type {\n",
       "        vertical-align: middle;\n",
       "    }\n",
       "\n",
       "    .dataframe tbody tr th {\n",
       "        vertical-align: top;\n",
       "    }\n",
       "\n",
       "    .dataframe thead th {\n",
       "        text-align: right;\n",
       "    }\n",
       "</style>\n",
       "<table border=\"1\" class=\"dataframe\">\n",
       "  <thead>\n",
       "    <tr style=\"text-align: right;\">\n",
       "      <th></th>\n",
       "      <th>id</th>\n",
       "      <th>label</th>\n",
       "    </tr>\n",
       "  </thead>\n",
       "  <tbody>\n",
       "    <tr>\n",
       "      <th>0</th>\n",
       "      <td>1</td>\n",
       "      <td>frog</td>\n",
       "    </tr>\n",
       "    <tr>\n",
       "      <th>1</th>\n",
       "      <td>2</td>\n",
       "      <td>truck</td>\n",
       "    </tr>\n",
       "  </tbody>\n",
       "</table>\n",
       "</div>"
      ],
      "text/plain": [
       "   id  label\n",
       "0   1   frog\n",
       "1   2  truck"
      ]
     },
     "execution_count": 10,
     "metadata": {},
     "output_type": "execute_result"
    }
   ],
   "source": [
    "training_labels.head(2)"
   ]
  },
  {
   "cell_type": "code",
   "execution_count": 15,
   "id": "36a5ee13",
   "metadata": {},
   "outputs": [],
   "source": [
    "#We have 10 classes so will have to create 10 folders for each class in each training folder and validation folder "
   ]
  },
  {
   "cell_type": "code",
   "execution_count": 11,
   "id": "cf008ee3",
   "metadata": {},
   "outputs": [],
   "source": [
    "Classes = list(training_labels[\"label\"].unique())"
   ]
  },
  {
   "cell_type": "code",
   "execution_count": 20,
   "id": "1c0b3f05",
   "metadata": {},
   "outputs": [],
   "source": [
    "#the below code creates 10 folders in validation directory and 10 folders in training directory\n",
    "for i in Classes:\n",
    "    os.makedirs(os.path.join(Validation_dir,i))\n",
    "    os.makedirs(os.path.join(Training_dir,i))"
   ]
  },
  {
   "cell_type": "code",
   "execution_count": 21,
   "id": "2e80828d",
   "metadata": {},
   "outputs": [],
   "source": [
    "#Stratified Samples (20% are kept for testing the model) there are 10 classes, each should have similar proportion\n",
    "stratified_sample = training_labels.groupby('label').apply(lambda x: x.sample(frac=0.20))"
   ]
  },
  {
   "cell_type": "code",
   "execution_count": 22,
   "id": "f7a7b841",
   "metadata": {},
   "outputs": [],
   "source": [
    "stratified_sample = stratified_sample[[\"id\",\"label\"]]"
   ]
  },
  {
   "cell_type": "code",
   "execution_count": 23,
   "id": "855cd9b3",
   "metadata": {},
   "outputs": [
    {
     "data": {
      "text/html": [
       "<div>\n",
       "<style scoped>\n",
       "    .dataframe tbody tr th:only-of-type {\n",
       "        vertical-align: middle;\n",
       "    }\n",
       "\n",
       "    .dataframe tbody tr th {\n",
       "        vertical-align: top;\n",
       "    }\n",
       "\n",
       "    .dataframe thead th {\n",
       "        text-align: right;\n",
       "    }\n",
       "</style>\n",
       "<table border=\"1\" class=\"dataframe\">\n",
       "  <thead>\n",
       "    <tr style=\"text-align: right;\">\n",
       "      <th></th>\n",
       "      <th></th>\n",
       "      <th>id</th>\n",
       "      <th>label</th>\n",
       "    </tr>\n",
       "    <tr>\n",
       "      <th>label</th>\n",
       "      <th></th>\n",
       "      <th></th>\n",
       "      <th></th>\n",
       "    </tr>\n",
       "  </thead>\n",
       "  <tbody>\n",
       "    <tr>\n",
       "      <th rowspan=\"5\" valign=\"top\">airplane</th>\n",
       "      <th>33076</th>\n",
       "      <td>33077</td>\n",
       "      <td>airplane</td>\n",
       "    </tr>\n",
       "    <tr>\n",
       "      <th>33235</th>\n",
       "      <td>33236</td>\n",
       "      <td>airplane</td>\n",
       "    </tr>\n",
       "    <tr>\n",
       "      <th>16920</th>\n",
       "      <td>16921</td>\n",
       "      <td>airplane</td>\n",
       "    </tr>\n",
       "    <tr>\n",
       "      <th>220</th>\n",
       "      <td>221</td>\n",
       "      <td>airplane</td>\n",
       "    </tr>\n",
       "    <tr>\n",
       "      <th>8018</th>\n",
       "      <td>8019</td>\n",
       "      <td>airplane</td>\n",
       "    </tr>\n",
       "  </tbody>\n",
       "</table>\n",
       "</div>"
      ],
      "text/plain": [
       "                   id     label\n",
       "label                          \n",
       "airplane 33076  33077  airplane\n",
       "         33235  33236  airplane\n",
       "         16920  16921  airplane\n",
       "         220      221  airplane\n",
       "         8018    8019  airplane"
      ]
     },
     "execution_count": 23,
     "metadata": {},
     "output_type": "execute_result"
    }
   ],
   "source": [
    "stratified_sample.head()"
   ]
  },
  {
   "cell_type": "code",
   "execution_count": 24,
   "id": "309a88fd",
   "metadata": {},
   "outputs": [],
   "source": [
    "#Dataset copied to respective folders in Validation Dir\n",
    "for i in Classes:\n",
    "    list_ids_class_i = list(stratified_sample[stratified_sample[\"label\"]==i][\"id\"].unique())\n",
    "    for j in list_ids_class_i:\n",
    "        if (os.path.getsize(os.path.join(Base_Images,(j.astype(str)+'.png')))) > 0: \n",
    "            copyfile(os.path.join(Base_Images,(j.astype(str)+'.png')), os.path.join(os.path.join(Validation_dir,i),(j.astype(str)+'.png')))"
   ]
  },
  {
   "cell_type": "code",
   "execution_count": 25,
   "id": "015bdfef",
   "metadata": {},
   "outputs": [],
   "source": [
    "#Dataset copied to respective folders in Training Dir\n",
    "for i in Classes:\n",
    "    list_ids_class_i = list(set(training_labels[training_labels[\"label\"]==i][\"id\"].unique()) - set(stratified_sample[stratified_sample[\"label\"]==i][\"id\"].unique()))\n",
    "    for j in list_ids_class_i:\n",
    "        if (os.path.getsize(os.path.join(Base_Images,(j.astype(str)+'.png')))) > 0:\n",
    "            copyfile(os.path.join(Base_Images,(j.astype(str)+'.png')), os.path.join(os.path.join(Training_dir,i),(j.astype(str)+'.png')))"
   ]
  },
  {
   "cell_type": "code",
   "execution_count": 7,
   "id": "d3e0b0f6",
   "metadata": {},
   "outputs": [],
   "source": [
    "#checking the shape of image\n",
    "from skimage import io\n",
    "# Load the image\n",
    "image = io.imread(r\"C:\\Users\\hp\\DATA SCIENCE\\Practise Projects\\CIFAR Dataset Kaggle\\cifar-10\\Class_wise_Images\\training\\airplane\\30.png\")"
   ]
  },
  {
   "cell_type": "code",
   "execution_count": 8,
   "id": "6c44d299",
   "metadata": {},
   "outputs": [
    {
     "data": {
      "text/plain": [
       "(32, 32, 3)"
      ]
     },
     "execution_count": 8,
     "metadata": {},
     "output_type": "execute_result"
    }
   ],
   "source": [
    "image.shape"
   ]
  },
  {
   "cell_type": "code",
   "execution_count": 11,
   "id": "4422ffbd",
   "metadata": {},
   "outputs": [
    {
     "data": {
      "text/plain": [
       "<matplotlib.image.AxesImage at 0x197701dac40>"
      ]
     },
     "execution_count": 11,
     "metadata": {},
     "output_type": "execute_result"
    },
    {
     "data": {
      "image/png": "[encoded data removed]",
      "text/plain": [
       "<Figure size 640x480 with 1 Axes>"
      ]
     },
     "metadata": {},
     "output_type": "display_data"
    }
   ],
   "source": [
    "plt.imshow(image)"
   ]
  },
  {
   "cell_type": "code",
   "execution_count": 17,
   "id": "ce4e8c4b",
   "metadata": {},
   "outputs": [],
   "source": [
    "#steps\n",
    "#1 use image generator because it automatically resizes the images if they are of different shape / sizes"
   ]
  },
  {
   "cell_type": "code",
   "execution_count": 12,
   "id": "217082c7",
   "metadata": {},
   "outputs": [],
   "source": [
    "train_datagen = ImageDataGenerator(rescale=1/255, rotation_range=0.4) #except for rescale other parameters lead to data augmentation\n",
    "Validation_datagen = ImageDataGenerator(rescale=1/255)"
   ]
  },
  {
   "cell_type": "code",
   "execution_count": 13,
   "id": "7a6ad663",
   "metadata": {},
   "outputs": [
    {
     "name": "stdout",
     "output_type": "stream",
     "text": [
      "Found 40000 images belonging to 10 classes.\n"
     ]
    }
   ],
   "source": [
    "train_generator = train_datagen.flow_from_directory(Training_dir ,  # This is the source directory for training images\n",
    "        target_size=(32, 32),  # All images will be resized to 300x300 (vimp in real world scenarios)\n",
    "        batch_size=50, \n",
    "        class_mode='categorical')"
   ]
  },
  {
   "cell_type": "code",
   "execution_count": 14,
   "id": "528de58c",
   "metadata": {},
   "outputs": [
    {
     "name": "stdout",
     "output_type": "stream",
     "text": [
      "Found 10000 images belonging to 10 classes.\n"
     ]
    }
   ],
   "source": [
    "Validation_generator = train_datagen.flow_from_directory( Validation_dir,  # This is the source directory for training images\n",
    "        target_size=(32, 32),  # All images will be resized to 300x300 (vimp in real world scenarios)\n",
    "        batch_size=50, \n",
    "        class_mode='categorical')"
   ]
  },
  {
   "cell_type": "code",
   "execution_count": 15,
   "id": "31f188f1",
   "metadata": {},
   "outputs": [],
   "source": [
    "class myCallback(tf.keras.callbacks.Callback):\n",
    "    # Define the method that checks the accuracy at the end of each epoch\n",
    "    def on_epoch_end(self, epoch, logs={}):\n",
    "        if(logs.get('accuracy') >= 0.90): # Experiment with changing this value\n",
    "            print(\"\\nReached 90% accuracy so cancelling training!\")\n",
    "            self.model.stop_training = True"
   ]
  },
  {
   "cell_type": "code",
   "execution_count": 16,
   "id": "04aa1a19",
   "metadata": {},
   "outputs": [],
   "source": [
    "from tensorflow import keras"
   ]
  },
  {
   "cell_type": "code",
   "execution_count": 17,
   "id": "f906f946",
   "metadata": {},
   "outputs": [],
   "source": [
    "model = tf.keras.Sequential([\n",
    "    tf.keras.layers.Conv2D(32, (3,3), activation='relu', input_shape=(32, 32, 3)),\n",
    "    tf.keras.layers.MaxPooling2D(2, 2),\n",
    "    tf.keras.layers.Conv2D(64, (3,3), activation='relu'),\n",
    "    tf.keras.layers.MaxPooling2D(2, 2),\n",
    "    tf.keras.layers.Conv2D(64, (3,3), activation='relu'),\n",
    "    tf.keras.layers.MaxPooling2D(2, 2),\n",
    "    tf.keras.layers.Flatten(),\n",
    "    tf.keras.layers.Dense(units=64, activation = 'relu'),\n",
    "    tf.keras.layers.Dense(units=10,activation = 'softmax')])"
   ]
  },
  {
   "cell_type": "code",
   "execution_count": 18,
   "id": "c3703fa9",
   "metadata": {},
   "outputs": [],
   "source": [
    "model.compile(optimizer=tf.keras.optimizers.RMSprop(learning_rate=.001),loss='sparse_categorical_crossentropy')\n",
    "callbacks = myCallback()"
   ]
  },
  {
   "cell_type": "code",
   "execution_count": null,
   "id": "5f1ca37f",
   "metadata": {},
   "outputs": [],
   "source": [
    "history = model.fit(\n",
    "      train_generator,  \n",
    "      epochs=800,\n",
    "    validation_data = Validation_generator,\n",
    "      verbose=2,callbacks=[callbacks])"
   ]
  },
  {
   "cell_type": "code",
   "execution_count": null,
   "id": "b22ad327",
   "metadata": {},
   "outputs": [],
   "source": [
    "history.to_csv(\"history.csv\")"
   ]
  },
  {
   "cell_type": "code",
   "execution_count": null,
   "id": "c98eaf91",
   "metadata": {},
   "outputs": [],
   "source": []
  }
 ],
 "metadata": {
  "kernelspec": {
   "display_name": "Python 3 (ipykernel)",
   "language": "python",
   "name": "python3"
  },
  "language_info": {
   "codemirror_mode": {
    "name": "ipython",
    "version": 3
   },
   "file_extension": ".py",
   "mimetype": "text/x-python",
   "name": "python",
   "nbconvert_exporter": "python",
   "pygments_lexer": "ipython3",
   "version": "3.8.17"
  }
 },
 "nbformat": 4,
 "nbformat_minor": 5
}
